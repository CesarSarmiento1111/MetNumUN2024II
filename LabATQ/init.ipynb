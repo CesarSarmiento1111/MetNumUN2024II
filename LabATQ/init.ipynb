{
  "cells": [
    {
      "cell_type": "markdown",
      "metadata": {
        "id": "view-in-github",
        "colab_type": "text"
      },
      "source": [
        "<a href=\"https://colab.research.google.com/github/CesarSarmiento1111/MetNumUN2024II/blob/main/LabATQ/init.ipynb\" target=\"_parent\"><img src=\"https://colab.research.google.com/assets/colab-badge.svg\" alt=\"Open In Colab\"/></a>"
      ]
    },
    {
      "cell_type": "markdown",
      "metadata": {
        "id": "yNprcBnKLF0H"
      },
      "source": [
        "# Dependencies"
      ]
    },
    {
      "cell_type": "markdown",
      "metadata": {
        "id": "wd8h3geiLF0J"
      },
      "source": [
        "Use this file to add external dependencies. The evaluator will run this file **once** to prepare the environment for your strategy.\n",
        "\n",
        "Jupyter allows you to run shell commands using `!`."
      ]
    },
    {
      "cell_type": "code",
      "execution_count": null,
      "metadata": {
        "id": "RDbuEUWCLF0K"
      },
      "outputs": [],
      "source": [
        "! conda info"
      ]
    },
    {
      "cell_type": "markdown",
      "metadata": {
        "id": "6Rz2djwXLF0K"
      },
      "source": [
        "You can use it to install external dependencies. We suggest use `conda` for this:"
      ]
    },
    {
      "cell_type": "code",
      "execution_count": null,
      "metadata": {
        "id": "qLablpyLLF0L"
      },
      "outputs": [],
      "source": [
        "# ! conda install -y scikit-learn"
      ]
    },
    {
      "cell_type": "markdown",
      "metadata": {
        "id": "qY62MFBfLF0L"
      },
      "source": [
        "But you can use `pip` or other tools if you need them."
      ]
    },
    {
      "cell_type": "code",
      "execution_count": null,
      "metadata": {
        "id": "JtZwjT-7LF0M"
      },
      "outputs": [],
      "source": [
        "# ! pip install sklearn2"
      ]
    }
  ],
  "metadata": {
    "@webio": {
      "lastCommId": null,
      "lastKernelId": null
    },
    "kernelspec": {
      "display_name": "Python 3",
      "language": "python",
      "name": "python3"
    },
    "language_info": {
      "codemirror_mode": {
        "name": "ipython",
        "version": 3
      },
      "file_extension": ".py",
      "mimetype": "text/x-python",
      "name": "python",
      "nbconvert_exporter": "python",
      "pygments_lexer": "ipython3"
    },
    "colab": {
      "provenance": [],
      "include_colab_link": true
    }
  },
  "nbformat": 4,
  "nbformat_minor": 0
}